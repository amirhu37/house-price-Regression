{
 "cells": [
  {
   "cell_type": "markdown",
   "id": "72cf6ae2",
   "metadata": {},
   "source": [
    "# <center> پروژه ی اول <br> رگرسیون <center/>"
   ]
  },
  {
   "cell_type": "markdown",
   "id": "ec23116d",
   "metadata": {},
   "source": [
    "## مرحله ی اول:\n",
    "<h3> وارد کردن کتابخانه ها </h3>"
   ]
  },
  {
   "cell_type": "code",
   "execution_count": 2,
   "id": "c46f71e4",
   "metadata": {},
   "outputs": [],
   "source": [
    "import pandas as pd\n",
    "import matplotlib.pyplot as plt\n",
    "import numpy as np\n",
    "from sklearn import preprocessing\n",
    "from sklearn import linear_model\n",
    "from sklearn.model_selection import train_test_split\n",
    "from sklearn.metrics import r2_score\n",
    "from sklearn.preprocessing import PolynomialFeatures\n",
    "\n",
    "%matplotlib inline"
   ]
  },
  {
   "cell_type": "markdown",
   "id": "847c2210",
   "metadata": {},
   "source": [
    "### خواندن اطلاعات"
   ]
  },
  {
   "cell_type": "code",
   "execution_count": 3,
   "id": "bae277cb",
   "metadata": {},
   "outputs": [
    {
     "data": {
      "text/html": [
       "<div>\n",
       "<style scoped>\n",
       "    .dataframe tbody tr th:only-of-type {\n",
       "        vertical-align: middle;\n",
       "    }\n",
       "\n",
       "    .dataframe tbody tr th {\n",
       "        vertical-align: top;\n",
       "    }\n",
       "\n",
       "    .dataframe thead th {\n",
       "        text-align: right;\n",
       "    }\n",
       "</style>\n",
       "<table border=\"1\" class=\"dataframe\">\n",
       "  <thead>\n",
       "    <tr style=\"text-align: right;\">\n",
       "      <th></th>\n",
       "      <th>Area</th>\n",
       "      <th>Room</th>\n",
       "      <th>Parking</th>\n",
       "      <th>Warehouse</th>\n",
       "      <th>Elevator</th>\n",
       "      <th>Address</th>\n",
       "      <th>Price</th>\n",
       "      <th>Price(USD)</th>\n",
       "    </tr>\n",
       "  </thead>\n",
       "  <tbody>\n",
       "    <tr>\n",
       "      <th>3474</th>\n",
       "      <td>86</td>\n",
       "      <td>2</td>\n",
       "      <td>True</td>\n",
       "      <td>True</td>\n",
       "      <td>True</td>\n",
       "      <td>Southern Janatabad</td>\n",
       "      <td>3.500000e+09</td>\n",
       "      <td>116666.67</td>\n",
       "    </tr>\n",
       "    <tr>\n",
       "      <th>3475</th>\n",
       "      <td>83</td>\n",
       "      <td>2</td>\n",
       "      <td>True</td>\n",
       "      <td>True</td>\n",
       "      <td>True</td>\n",
       "      <td>Niavaran</td>\n",
       "      <td>6.800000e+09</td>\n",
       "      <td>226666.67</td>\n",
       "    </tr>\n",
       "    <tr>\n",
       "      <th>3476</th>\n",
       "      <td>75</td>\n",
       "      <td>2</td>\n",
       "      <td>False</td>\n",
       "      <td>False</td>\n",
       "      <td>False</td>\n",
       "      <td>Parand</td>\n",
       "      <td>3.650000e+08</td>\n",
       "      <td>12166.67</td>\n",
       "    </tr>\n",
       "    <tr>\n",
       "      <th>3477</th>\n",
       "      <td>105</td>\n",
       "      <td>2</td>\n",
       "      <td>True</td>\n",
       "      <td>True</td>\n",
       "      <td>True</td>\n",
       "      <td>Dorous</td>\n",
       "      <td>5.600000e+09</td>\n",
       "      <td>186666.67</td>\n",
       "    </tr>\n",
       "    <tr>\n",
       "      <th>3478</th>\n",
       "      <td>82</td>\n",
       "      <td>2</td>\n",
       "      <td>False</td>\n",
       "      <td>True</td>\n",
       "      <td>True</td>\n",
       "      <td>Parand</td>\n",
       "      <td>3.600000e+08</td>\n",
       "      <td>12000.00</td>\n",
       "    </tr>\n",
       "  </tbody>\n",
       "</table>\n",
       "</div>"
      ],
      "text/plain": [
       "     Area  Room  Parking  Warehouse  Elevator             Address  \\\n",
       "3474   86     2     True       True      True  Southern Janatabad   \n",
       "3475   83     2     True       True      True            Niavaran   \n",
       "3476   75     2    False      False     False              Parand   \n",
       "3477  105     2     True       True      True              Dorous   \n",
       "3478   82     2    False       True      True              Parand   \n",
       "\n",
       "             Price  Price(USD)  \n",
       "3474  3.500000e+09   116666.67  \n",
       "3475  6.800000e+09   226666.67  \n",
       "3476  3.650000e+08    12166.67  \n",
       "3477  5.600000e+09   186666.67  \n",
       "3478  3.600000e+08    12000.00  "
      ]
     },
     "execution_count": 3,
     "metadata": {},
     "output_type": "execute_result"
    }
   ],
   "source": [
    "df = pd.read_csv('housePrice.csv' , index_col= False)\n",
    "df = df.dropna()\n",
    "\n",
    "\n",
    "df.tail()\n"
   ]
  },
  {
   "cell_type": "markdown",
   "id": "40f8f5d2",
   "metadata": {},
   "source": [
    "### data cleaning\n",
    "\n",
    "در این بین تعداد داده های n/a هم پیدا می کنیم که مشخص می شود تنها در ستون مربوط به اددرس این طور است و چون به تعداد کمی است با `df.dropna` حذف می کنیم\n",
    "\n",
    "در داده های Area چند داده هستد که فرمت مناسبی ندارند که می توان  توسط *regex* مناسب سازی می شوند اما چون داده پرت نیز محسوب می شوند ترجیح می شود که پاک شود.\n",
    "در نهایت برای خوانا شدن برای کامپیوتر  داده ها تبدیل به یک آرایه np می شود\n"
   ]
  },
  {
   "cell_type": "code",
   "execution_count": 4,
   "id": "a01f8562",
   "metadata": {
    "scrolled": true
   },
   "outputs": [
    {
     "data": {
      "text/plain": [
       "3450"
      ]
     },
     "execution_count": 4,
     "metadata": {},
     "output_type": "execute_result"
    }
   ],
   "source": [
    "df = df.loc[df['Area'].str.contains(\" \", case=False) == False]\n",
    "\n",
    "df = df.dropna()\n",
    "\n",
    "X = np.asanyarray(df[['Area', 'Room', 'Parking', 'Warehouse', 'Elevator', 'Address']])\n",
    "Y = np.asanyarray(df['Price(USD)'])\n",
    "\n",
    "X[:5,0]\n",
    "len(Y)"
   ]
  },
  {
   "cell_type": "markdown",
   "id": "0ed1e4e8",
   "metadata": {},
   "source": [
    "### داده هایی که بصورت `str`  یا  `True` و `False` بودند که برای آنالیز آن ها را بصورت 0 و 1 در می آوریم. "
   ]
  },
  {
   "cell_type": "code",
   "execution_count": 5,
   "id": "6f0727ef",
   "metadata": {},
   "outputs": [
    {
     "data": {
      "text/plain": [
       "array([156, 156, 117, ..., 115, 39, 115], dtype=object)"
      ]
     },
     "execution_count": 5,
     "metadata": {},
     "output_type": "execute_result"
    }
   ],
   "source": [
    "Park_ncdr = preprocessing.LabelEncoder()\n",
    "Park_ncdr.fit([True, False])\n",
    "X[:,2] = Park_ncdr.transform(X[:,2])\n",
    "\n",
    "Ware_ncdr = preprocessing.LabelEncoder()\n",
    "Ware_ncdr.fit([True, False])\n",
    "X[:,3] = Ware_ncdr.transform(X[:,3])\n",
    "\n",
    "ele_ncdr = preprocessing.LabelEncoder()\n",
    "ele_ncdr.fit([True, False])\n",
    "X[:,4] = ele_ncdr.transform(X[:,4])\n",
    "\n",
    "addr = df['Address'].values\n",
    "addr = list(addr)\n",
    "addr_ncdr = preprocessing.LabelEncoder()\n",
    "addr_ncdr.fit(addr)\n",
    "X[:,5] = addr_ncdr.transform(X[:,5])\n",
    "\n",
    "X[:,0] = X[:,0].astype(int)\n",
    "\n",
    "X[:,5]"
   ]
  },
  {
   "cell_type": "markdown",
   "id": "d9475363",
   "metadata": {},
   "source": [
    "# پیدا کردن داده های پرت با z-score"
   ]
  },
  {
   "cell_type": "code",
   "execution_count": 6,
   "id": "150d4331",
   "metadata": {},
   "outputs": [],
   "source": [
    "\n",
    "def zscore_outlier(data):\n",
    "    outliers = []\n",
    "    threshold=3\n",
    "    mean_1 = np.mean(data)\n",
    "    std_1 =np.std(data)\n",
    "    for y in data:\n",
    "        z_score = (y - mean_1)/std_1 \n",
    "        if np.abs(z_score) > threshold:\n",
    "            outliers.append(y)\n",
    "    return outliers"
   ]
  },
  {
   "cell_type": "code",
   "execution_count": 7,
   "id": "dd232eed",
   "metadata": {},
   "outputs": [
    {
     "name": "stdout",
     "output_type": "stream",
     "text": [
      "Datas Before: \n",
      " (3450, 6)\n",
      "Datas After: \n",
      " (3430, 6)\n"
     ]
    }
   ],
   "source": [
    "print(\"Datas Before: \\n\",X.shape)\n",
    "\n",
    "for i in range((X.shape[1])):\n",
    "    outlr_ = zscore_outlier(X[:,i])\n",
    "    for j in range(len(outlr_)):\n",
    "        if X[:,i][j] in outlr_:          \n",
    "            X =  np.delete(arr = X, obj = i, axis = 0 )\n",
    "            Y =  np.delete(arr = Y, obj = i, axis = 0 )\n",
    "            continue\n",
    "    \n",
    "print(\"Datas After: \\n\",X.shape)"
   ]
  },
  {
   "cell_type": "markdown",
   "id": "02ead4b6",
   "metadata": {},
   "source": [
    "## استاندارد سازی داده "
   ]
  },
  {
   "cell_type": "code",
   "execution_count": 8,
   "id": "4a6959b6",
   "metadata": {},
   "outputs": [
    {
     "name": "stdout",
     "output_type": "stream",
     "text": [
      "the X is: \n",
      " [[0.03670745 0.2        1.         1.         1.         0.81675393]\n",
      " [0.03337041 0.2        1.         1.         1.         0.81675393]\n",
      " [0.05450501 0.4        1.         1.         1.         0.61256545]\n",
      " [0.07675195 0.4        1.         1.         1.         0.51832461]\n",
      " [0.08342603 0.4        1.         1.         1.         0.70680628]]\n",
      "the Y is: \n",
      " [ 61666.67  61666.67  18333.33 ...  12166.67 186666.67  12000.  ]\n"
     ]
    }
   ],
   "source": [
    "X = preprocessing.MinMaxScaler().fit(X).transform(X.astype(float))\n",
    "\n",
    "print(\"the X is: \\n\", X[:5])\n",
    "print(\"the Y is: \\n\", Y)"
   ]
  },
  {
   "cell_type": "markdown",
   "id": "89d17ce8",
   "metadata": {},
   "source": [
    "## رسم داده ها \n",
    "برای درک میزان ارتباط خطی بودن داده ها را بر حسب Price بصورت نقطه ای (scatter) رسم کنیم"
   ]
  },
  {
   "cell_type": "code",
   "execution_count": 9,
   "id": "10925408",
   "metadata": {},
   "outputs": [
    {
     "data": {
      "image/png": "[encoded data removed]",
      "text/plain": [
       "<Figure size 432x288 with 1 Axes>"
      ]
     },
     "metadata": {
      "needs_background": "light"
     },
     "output_type": "display_data"
    }
   ],
   "source": [
    "for i in range(X.shape[1]):\n",
    "    plt.scatter(X[:,i], Y[:] , s = 10 ,color = 'blue')\n",
    "plt.show()"
   ]
  },
  {
   "cell_type": "markdown",
   "id": "3869b25d",
   "metadata": {},
   "source": [
    "# شروع یادگیری\n"
   ]
  },
  {
   "cell_type": "markdown",
   "id": "e08642d6",
   "metadata": {},
   "source": [
    "## جدا سازی داده ها"
   ]
  },
  {
   "cell_type": "code",
   "execution_count": 10,
   "id": "c8315f48",
   "metadata": {},
   "outputs": [],
   "source": [
    "x_train, x_test,y_train,y_test = train_test_split(X,Y,test_size =0.2)"
   ]
  },
  {
   "cell_type": "markdown",
   "id": "54b144e4",
   "metadata": {},
   "source": [
    "### ابتدا با رگرسیون خطی ساده\n"
   ]
  },
  {
   "cell_type": "code",
   "execution_count": 11,
   "id": "3f1b4e67",
   "metadata": {},
   "outputs": [
    {
     "name": "stdout",
     "output_type": "stream",
     "text": [
      "coef: \n",
      " [2270117.65367304  208600.01023351   -4708.71880778   28889.47214405\n",
      "   40953.38874965   13144.81358476]\n",
      "intercept: \n",
      " -162378.39179155882\n",
      "Accurecy: \n",
      " 0.5616779954919666\n",
      "R2-score: 0.56\n"
     ]
    }
   ],
   "source": [
    "clf = linear_model.LinearRegression()\n",
    "\n",
    "clf.fit(x_train, y_train)\n",
    "\n",
    "y_predict = clf.predict(x_test)\n",
    "\n",
    "print('coef: \\n', clf.coef_)\n",
    "print('intercept: \\n', clf.intercept_)\n",
    "print('Accurecy: \\n', clf.score(x_test,y_test))\n",
    "print(\"R2-score: %.2f\" % r2_score(y_test, y_predict ) )"
   ]
  },
  {
   "cell_type": "markdown",
   "id": "2e71ce86",
   "metadata": {},
   "source": [
    "# رسم نهایی داده ها و خط رگرسیون"
   ]
  },
  {
   "cell_type": "code",
   "execution_count": 12,
   "id": "8278ed06",
   "metadata": {},
   "outputs": [
    {
     "data": {
      "image/png": "[encoded data removed]",
      "text/plain": [
       "<Figure size 432x288 with 1 Axes>"
      ]
     },
     "metadata": {
      "needs_background": "light"
     },
     "output_type": "display_data"
    }
   ],
   "source": [
    "y_hat = clf.coef_[0]*x_train + clf.intercept_\n",
    "colors = plt.cm.Spectral(np.linspace(0, 1, len(Y)))\n",
    "plt.scatter(X[:,0], Y[:],  color= colors )\n",
    "plt.scatter(X[:,1], Y[:],  color= colors )\n",
    "plt.scatter(X[:,2], Y[:],  color= colors )\n",
    "plt.scatter(X[:,3], Y[:],  color= colors)\n",
    "plt.plot(x_train, y_hat, '-r')\n",
    "plt.show()"
   ]
  },
  {
   "cell_type": "markdown",
   "id": "cf764b9a",
   "metadata": {},
   "source": [
    "# رگرسیون به روش polynomial"
   ]
  },
  {
   "cell_type": "code",
   "execution_count": 13,
   "id": "eb18251d",
   "metadata": {},
   "outputs": [],
   "source": [
    "\n",
    "\n",
    "poly = PolynomialFeatures(degree=2)\n",
    "\n",
    "train_x_poly = poly.fit_transform(x_train)"
   ]
  },
  {
   "cell_type": "code",
   "execution_count": 14,
   "id": "d7e50def",
   "metadata": {},
   "outputs": [
    {
     "name": "stdout",
     "output_type": "stream",
     "text": [
      "Coefficients:  [-1.87181007e-10  1.75017714e+06 -5.77023858e+05 -2.74303166e+03\n",
      "  1.03077388e+04  3.41492500e+04  1.94671095e+04 -2.25039594e+06\n",
      "  3.72930777e+06 -1.70261333e+06 -1.74347574e+05  2.05121286e+06\n",
      "  1.30765281e+06  9.00992243e+04  1.65479396e+05  1.98177837e+05\n",
      " -2.57384558e+05 -3.02709057e+05 -2.74303166e+03  2.95377971e+04\n",
      "  6.24485504e+03  2.93556158e+04  1.03077388e+04 -4.65221167e+04\n",
      " -1.00714589e+05  3.41492500e+04 -7.25808596e+04  1.26449015e+05]\n",
      "Intercept:  35300.15947460677\n"
     ]
    }
   ],
   "source": [
    "\n",
    "\n",
    "clp = linear_model.LinearRegression()\n",
    "\n",
    "_y_train = clp.fit(train_x_poly, y_train)\n",
    "\n",
    "\n",
    "# The coefficients\n",
    "print ('Coefficients: ', clp.coef_)\n",
    "print ('Intercept: ',clp.intercept_)"
   ]
  },
  {
   "cell_type": "code",
   "execution_count": 15,
   "id": "065765a4",
   "metadata": {},
   "outputs": [
    {
     "name": "stdout",
     "output_type": "stream",
     "text": [
      "Mean absolute error: 82799.13\n",
      "Residual sum of squares (MSE): 24072765883.86\n",
      "R2-score: 0.67\n"
     ]
    }
   ],
   "source": [
    "x_test_poly = poly.fit_transform(x_test)\n",
    "\n",
    "y_predict_p = clp.predict(x_test_poly)\n",
    "\n",
    "print(\"Mean absolute error: %.2f\" % np.mean(np.absolute(y_predict_p - y_test)))\n",
    "print(\"Residual sum of squares (MSE): %.2f\" % np.mean((y_predict_p - y_test) ** 2))\n",
    "print(\"R2-score: %.2f\" % r2_score(y_test, y_predict_p ) )\n"
   ]
  },
  {
   "cell_type": "code",
   "execution_count": 27,
   "id": "87e05f83",
   "metadata": {},
   "outputs": [
    {
     "data": {
      "image/png": "[encoded data removed]",
      "text/plain": [
       "<Figure size 432x288 with 1 Axes>"
      ]
     },
     "metadata": {
      "needs_background": "light"
     },
     "output_type": "display_data"
    }
   ],
   "source": [
    "XX = np.arange(0.0, 1.5, 0.1)\n",
    "yy = clp.intercept_+ clp.coef_[1]*XX + clp.coef_[2]*np.power(XX, 2)\n",
    "\n",
    "\n",
    "plt.scatter(X[:,0], Y[:],  color= colors )\n",
    "plt.scatter(X[:,1], Y[:],  color= colors )\n",
    "plt.scatter(X[:,2], Y[:],  color= colors )\n",
    "plt.scatter(X[:,3], Y[:],  color= colors)\n",
    "plt.plot(XX, yy, '-r' )\n",
    "plt.show()"
   ]
  },
  {
   "cell_type": "code",
   "execution_count": null,
   "id": "f135091e",
   "metadata": {},
   "outputs": [],
   "source": []
  }
 ],
 "metadata": {
  "direction": "rtl",
  "kernelspec": {
   "display_name": "Python 3 (ipykernel)",
   "language": "python",
   "name": "python3"
  },
  "language_info": {
   "codemirror_mode": {
    "name": "ipython",
    "version": 3
   },
   "file_extension": ".py",
   "mimetype": "text/x-python",
   "name": "python",
   "nbconvert_exporter": "python",
   "pygments_lexer": "ipython3",
   "version": "3.9.7"
  }
 },
 "nbformat": 4,
 "nbformat_minor": 5
}
